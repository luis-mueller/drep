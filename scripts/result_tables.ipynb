{
 "cells": [
  {
   "cell_type": "code",
   "execution_count": 1,
   "source": [
    "import json\n",
    "import pandas as pd\n",
    "import numpy as np"
   ],
   "outputs": [],
   "metadata": {}
  },
  {
   "cell_type": "code",
   "execution_count": 11,
   "source": [
    "config = open('../results/group/results_data_size.json', 'r')\n",
    "data = json.load(config)\n",
    "\n",
    "res = []\n",
    "for metric in [{\"key\" : \"remaining\", \"title\" : \"Rem.\"}, {\"key\" : \"accuracy\", \"title\" : \"Acc. %\"}]:\n",
    "    for key, value in data.items(): \n",
    "        res2 = []\n",
    "        for i, d in enumerate(value):\n",
    "            scores = [ v[metric[\"key\"]] for v in d[\"scores\"]]\n",
    "\n",
    "            myline = {\n",
    "                \"size\" : d[\"size\"], \n",
    "                key+\" %s\" % metric[\"title\"] : \"$%.2f pm %.2f$\" %(np.mean(scores), np.std(scores))\n",
    "            }\n",
    "            if res == []:\n",
    "                res2.append(myline)\n",
    "            else: \n",
    "                res[i].update(myline)\n",
    "        res.extend(res2)\n",
    "\n",
    "df = pd.DataFrame(res)\n",
    "df = df.transpose()\n",
    "ltx = df.to_latex(index=True)\n",
    "fmtltx = ltx.replace(\"\\$\", \"$\").replace(\"pm\", \"\\pm\")\n",
    "with open('readme.txt', 'w') as f:\n",
    "    f.write(fmtltx)\n",
    "\n"
   ],
   "outputs": [
    {
     "output_type": "stream",
     "name": "stdout",
     "text": [
      "     size        EPIC Rem.        DREP Rem.      COMEP Rem.    LOFB-DRF Rem.  \\\n",
      "0     100   $7.00 pm 0.00$   $7.67 pm 1.25$  $5.00 pm 0.00$  $35.00 pm 0.00$   \n",
      "1   10000  $25.00 pm 0.00$  $25.33 pm 0.47$  $5.00 pm 0.00$  $35.00 pm 0.00$   \n",
      "2  100000  $28.00 pm 0.00$  $28.00 pm 0.82$  $5.00 pm 0.00$  $35.00 pm 0.00$   \n",
      "3     All  $30.00 pm 0.00$  $30.00 pm 0.00$  $5.00 pm 0.00$  $35.00 pm 0.00$   \n",
      "\n",
      "       EPIC Acc. %      DREP Acc. %     COMEP Acc. %  LOFB-DRF Acc. %  \n",
      "0  $27.45 pm 5.79$  $40.25 pm 2.94$  $34.14 pm 1.01$  $52.06 pm 0.00$  \n",
      "1  $46.57 pm 0.44$  $44.73 pm 0.64$  $35.95 pm 0.83$  $51.88 pm 0.25$  \n",
      "2  $46.84 pm 0.04$  $46.68 pm 0.46$  $38.45 pm 1.80$  $52.06 pm 0.00$  \n",
      "3  $46.41 pm 0.00$  $47.20 pm 0.00$  $36.31 pm 0.98$  $52.06 pm 0.00$  \n",
      "                               0                1                2  \\\n",
      "size                         100            10000           100000   \n",
      "EPIC Rem.         $7.00 pm 0.00$  $25.00 pm 0.00$  $28.00 pm 0.00$   \n",
      "DREP Rem.         $7.67 pm 1.25$  $25.33 pm 0.47$  $28.00 pm 0.82$   \n",
      "COMEP Rem.        $5.00 pm 0.00$   $5.00 pm 0.00$   $5.00 pm 0.00$   \n",
      "LOFB-DRF Rem.    $35.00 pm 0.00$  $35.00 pm 0.00$  $35.00 pm 0.00$   \n",
      "EPIC Acc. %      $27.45 pm 5.79$  $46.57 pm 0.44$  $46.84 pm 0.04$   \n",
      "DREP Acc. %      $40.25 pm 2.94$  $44.73 pm 0.64$  $46.68 pm 0.46$   \n",
      "COMEP Acc. %     $34.14 pm 1.01$  $35.95 pm 0.83$  $38.45 pm 1.80$   \n",
      "LOFB-DRF Acc. %  $52.06 pm 0.00$  $51.88 pm 0.25$  $52.06 pm 0.00$   \n",
      "\n",
      "                               3  \n",
      "size                         All  \n",
      "EPIC Rem.        $30.00 pm 0.00$  \n",
      "DREP Rem.        $30.00 pm 0.00$  \n",
      "COMEP Rem.        $5.00 pm 0.00$  \n",
      "LOFB-DRF Rem.    $35.00 pm 0.00$  \n",
      "EPIC Acc. %      $46.41 pm 0.00$  \n",
      "DREP Acc. %      $47.20 pm 0.00$  \n",
      "COMEP Acc. %     $36.31 pm 0.98$  \n",
      "LOFB-DRF Acc. %  $52.06 pm 0.00$  \n"
     ]
    }
   ],
   "metadata": {}
  },
  {
   "cell_type": "code",
   "execution_count": 2,
   "source": [
    "config = open('../results/group/result_initial.json', 'r')\n",
    "data = json.load(config)\n",
    "\n",
    "res = []\n",
    "for metric in [{\"key\" : \"remaining\", \"title\" : \"# Remain.\"}, {\"key\" : \"accuracy\", \"title\" : \"Acc. %\"}]:\n",
    "    for key, value in data.items(): \n",
    "        res2 = []\n",
    "        for i, d in enumerate(value):\n",
    "            scores = [ v[metric[\"key\"]] for v in d[\"scores\"]]\n",
    "\n",
    "            myline = {\n",
    "                \"Subset\" : \"Top \" + str(d[\"top\"]) if d[\"top\"] != \"All\" else \"All\", \n",
    "                key+\" %s\" % metric[\"title\"] : \"$%.2f pm %.2f$\" %(np.mean(scores), np.std(scores))\n",
    "            }\n",
    "            if res == []:\n",
    "                res2.append(myline)\n",
    "            else: \n",
    "                res[i].update(myline)\n",
    "        res.extend(res2)\n",
    "\n",
    "df = pd.DataFrame(res)\n",
    "df = df.transpose()\n",
    "ltx = df.to_latex(index=True)\n",
    "fmtltx = ltx.replace(\"\\$\", \"$\").replace(\"pm\", \"\\pm\")\n",
    "with open('readme2.txt', 'w') as f:\n",
    "    f.write(fmtltx)"
   ],
   "outputs": [],
   "metadata": {}
  },
  {
   "cell_type": "code",
   "execution_count": 13,
   "source": [
    "config = open('../results/group/results_result_set_size.json', 'r')\n",
    "data = json.load(config)\n",
    "\n",
    "res = []\n",
    "for metric in [{\"key\" : \"remaining\", \"title\" : \"# Remain.\"}, {\"key\" : \"accuracy\", \"title\" : \"Acc. %\"}]:\n",
    "    for key, value in data.items(): \n",
    "        res2 = []\n",
    "        for i, d in enumerate(value):\n",
    "            scores = [ v[metric[\"key\"]] for v in d[\"scores\"]]\n",
    "\n",
    "            myline = {\n",
    "                \"% Size of Result Set\" : d[\"percentage\"], \n",
    "                key+\" %s\" % metric[\"title\"] : \"$%.2f pm %.2f$\" %(np.mean(scores), np.std(scores))\n",
    "            }\n",
    "            if res == []:\n",
    "                res2.append(myline)\n",
    "            else: \n",
    "                res[i].update(myline)\n",
    "        res.extend(res2)\n",
    "\n",
    "df = pd.DataFrame(res)\n",
    "df = df.transpose()\n",
    "ltx = df.to_latex(index=True)\n",
    "fmtltx = ltx.replace(\"\\$\", \"$\").replace(\"pm\", \"\\pm\")\n",
    "with open('readme4.txt', 'w') as f:\n",
    "    f.write(fmtltx)"
   ],
   "outputs": [],
   "metadata": {}
  },
  {
   "cell_type": "code",
   "execution_count": null,
   "source": [],
   "outputs": [],
   "metadata": {}
  }
 ],
 "metadata": {
  "interpreter": {
   "hash": "31f2aee4e71d21fbe5cf8b01ff0e069b9275f58929596ceb00d14d90e3e16cd6"
  },
  "kernelspec": {
   "display_name": "Python 3.8.10 64-bit",
   "name": "python3"
  },
  "language_info": {
   "codemirror_mode": {
    "name": "ipython",
    "version": 3
   },
   "file_extension": ".py",
   "mimetype": "text/x-python",
   "name": "python",
   "nbconvert_exporter": "python",
   "pygments_lexer": "ipython3",
   "version": "3.8.10"
  },
  "orig_nbformat": 4
 },
 "nbformat": 4,
 "nbformat_minor": 2
}